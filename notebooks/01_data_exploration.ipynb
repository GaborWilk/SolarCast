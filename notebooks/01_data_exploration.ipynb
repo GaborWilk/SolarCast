{
 "cells": [
  {
   "cell_type": "code",
   "execution_count": 1,
   "id": "e78c81ad-fd4c-4ec8-840b-51702762d76d",
   "metadata": {},
   "outputs": [
    {
     "name": "stdout",
     "output_type": "stream",
     "text": [
      "        utc_timestamp  actual_entsoe_transparency  \\\n",
      "0 2019-09-23 04:00:00                        4813   \n",
      "1 2019-09-23 05:00:00                        5204   \n",
      "2 2019-09-23 06:00:00                        5307   \n",
      "3 2019-09-23 07:00:00                        5356   \n",
      "4 2019-09-23 08:00:00                        5392   \n",
      "\n",
      "   forecast_entsoe_transparency  generation_actual       TOA  Clear sky GHI  \\\n",
      "0                          4542                  3   21.8694         6.1237   \n",
      "1                          4891                 27  220.2275       101.8828   \n",
      "2                          4917                 87  443.0965       264.5972   \n",
      "3                          4940                137  635.7904       423.2831   \n",
      "4                          4980                185  785.1475       551.3483   \n",
      "\n",
      "   Clear sky BHI  Clear sky DHI  Clear sky BNI      GHI     BHI      DHI  \\\n",
      "0         0.6728         5.4509        11.7965   0.8182  0.0000   0.8182   \n",
      "1        42.7787        59.1041       235.5252  10.7957  0.0000  10.7957   \n",
      "2       160.6527       103.9445       483.2099  22.3956  0.0000  22.3956   \n",
      "3       294.9474       128.3358       625.3030  50.0841  0.0003  50.0838   \n",
      "4       410.7756       140.5727       707.1201  51.3973  0.0001  51.3972   \n",
      "\n",
      "      BNI  Reliability  \n",
      "0  0.0000       0.7917  \n",
      "1  0.0000       0.9667  \n",
      "2  0.0000       1.0000  \n",
      "3  0.0007       1.0000  \n",
      "4  0.0002       1.0000  \n"
     ]
    }
   ],
   "source": [
    "import pandas as pd\n",
    "import os\n",
    "\n",
    "DATA_PATH = os.path.join(\"..\", \"data\", \"processed\")\n",
    "\n",
    "#Load solar generation\n",
    "df_energy = pd.read_excel(os.path.join(DATA_PATH, \"time_series.xlsx\"))\n",
    "df_energy['utc_timestamp'] = pd.to_datetime(df_energy['utc_timestamp'])\n",
    "\n",
    "# Load solar irradiance data\n",
    "df_solar = pd.read_csv(os.path.join(DATA_PATH, \"solar_data.csv\"), sep=';')\n",
    "df_solar['utc_timestamp'] = df_solar['Date'].str.split('/').str[0]\n",
    "df_solar['utc_timestamp'] = pd.to_datetime(df_solar['utc_timestamp'])\n",
    "df_solar.drop(columns=['Date'], inplace=True)\n",
    "\n",
    "# Merge datasets\n",
    "df_merged = pd.merge(df_energy, df_solar, on='utc_timestamp', how='inner')\n",
    "print(df_merged.head())\n",
    "\n",
    "df_merged.to_csv(os.path.join(DATA_PATH, \"merged_data.csv\"), index=False)"
   ]
  },
  {
   "cell_type": "code",
   "execution_count": null,
   "id": "8a433a1f-3592-46c9-ae97-974b9f07de92",
   "metadata": {},
   "outputs": [],
   "source": []
  },
  {
   "cell_type": "code",
   "execution_count": null,
   "id": "48e34054-0280-4ac6-a0ea-e0c6e1156e6b",
   "metadata": {},
   "outputs": [],
   "source": []
  }
 ],
 "metadata": {
  "kernelspec": {
   "display_name": "Python 3 (ipykernel)",
   "language": "python",
   "name": "python3"
  },
  "language_info": {
   "codemirror_mode": {
    "name": "ipython",
    "version": 3
   },
   "file_extension": ".py",
   "mimetype": "text/x-python",
   "name": "python",
   "nbconvert_exporter": "python",
   "pygments_lexer": "ipython3",
   "version": "3.10.4"
  }
 },
 "nbformat": 4,
 "nbformat_minor": 5
}
